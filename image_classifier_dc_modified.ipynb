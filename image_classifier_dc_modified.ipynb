{
 "cells": [
  {
   "cell_type": "markdown",
   "id": "328db113-c1e4-43cc-be06-661e82d44535",
   "metadata": {},
   "source": [
    "### Shell commands\n",
    "\n",
    "Activate virtual environment with bash\n",
    "\n",
    "```\n",
    "cd flowers_classifier\n",
    "python3 -m venv venv\n",
    ". venv/bin/activate\n",
    "pip install requirements.txt\n",
    "```\n",
    "\n",
    "Untar flowers data\n",
    "\n",
    "```\n",
    "tar -xf flowers.tar.gz\n",
    "```"
   ]
  },
  {
   "cell_type": "code",
   "execution_count": 1,
   "id": "e96e0cb7-7830-4843-ae26-73c4f76e824e",
   "metadata": {},
   "outputs": [],
   "source": [
    "# Import modules\n",
    "\n",
    "from collections import OrderedDict\n",
    "import json\n",
    "\n",
    "import matplotlib.pyplot as plt\n",
    "import seaborn as sns\n",
    "import numpy as np\n",
    "from PIL import Image\n",
    "import torch\n",
    "from torch import nn\n",
    "from torch import optim\n",
    "from torchvision import datasets, transforms, models\n",
    "import torch.nn.functional as F\n",
    "from torch.optim import lr_scheduler\n",
    "from torch.autograd import Variable"
   ]
  },
  {
   "cell_type": "code",
   "execution_count": 2,
   "id": "b93c1fe8-ddcd-4d0f-b00d-042d205cc95f",
   "metadata": {},
   "outputs": [],
   "source": [
    "# Jupyter configuration\n",
    "\n",
    "%matplotlib inline\n",
    "%config InlineBackend.figure_format = 'retina'"
   ]
  },
  {
   "cell_type": "code",
   "execution_count": 3,
   "id": "2b71ae19-5a42-4325-b0af-a19dd18623a7",
   "metadata": {},
   "outputs": [],
   "source": [
    "# Set names\n",
    "\n",
    "data_dir = 'flowers'\n",
    "train_dir = data_dir + '/train'\n",
    "valid_dir = data_dir + '/valid'\n",
    "test_dir = data_dir + '/test'"
   ]
  },
  {
   "cell_type": "code",
   "execution_count": 4,
   "id": "820f4c26-5889-4ded-b9d4-c1d1f15ee571",
   "metadata": {},
   "outputs": [],
   "source": [
    "# Define transforms for training, validation, and testing datasets\n",
    "\n",
    "data_transforms = {\n",
    "    'train' : transforms.Compose([transforms.RandomResizedCrop(224),\n",
    "                                    transforms.RandomHorizontalFlip(),transforms.RandomRotation(30),\n",
    "                                    transforms.ToTensor(),\n",
    "                                    transforms.Normalize([0.485, 0.456, 0.406], \n",
    "                                                         [0.229, 0.224, 0.225])]),\n",
    "                                                            \n",
    "    'valid' : transforms.Compose([transforms.Resize(256),\n",
    "                                      transforms.CenterCrop(224),\n",
    "                                      transforms.ToTensor(),\n",
    "                                      transforms.Normalize([0.485, 0.456, 0.406], \n",
    "                                                           [0.229, 0.224, 0.225])]),\n",
    "\n",
    "    'test' : transforms.Compose([transforms.Resize(256),\n",
    "                                      transforms.CenterCrop(224),\n",
    "                                      transforms.ToTensor(),\n",
    "                                      transforms.Normalize([0.485, 0.456, 0.406], \n",
    "                                                           [0.229, 0.224, 0.225])])\n",
    "}"
   ]
  },
  {
   "cell_type": "code",
   "execution_count": 5,
   "id": "78df1911-5962-4b30-8466-e86e1cae4808",
   "metadata": {},
   "outputs": [],
   "source": [
    "# Load and transform datasets\n",
    "\n",
    "image_datasets = {\n",
    "    'train' : datasets.ImageFolder(train_dir, transform=data_transforms['train']),\n",
    "    'test' : datasets.ImageFolder(test_dir, transform=data_transforms['test']),\n",
    "    'valid' : datasets.ImageFolder(valid_dir, transform=data_transforms['valid'])\n",
    "}"
   ]
  },
  {
   "cell_type": "code",
   "execution_count": 6,
   "id": "c0f54f6a-d8d3-4510-9e02-5ac2a34ded59",
   "metadata": {},
   "outputs": [],
   "source": [
    "# Define data loaders\n",
    "\n",
    "dataloaders = {\n",
    "    'train' : torch.utils.data.DataLoader(image_datasets['train'], batch_size=64, shuffle=True),\n",
    "    'test' : torch.utils.data.DataLoader(image_datasets['test'], batch_size=64, shuffle=False),\n",
    "    'valid' : torch.utils.data.DataLoader(image_datasets['valid'], batch_size=64, shuffle=True)\n",
    "}"
   ]
  },
  {
   "cell_type": "code",
   "execution_count": 7,
   "id": "9ccba21e-a0ae-4afc-b005-18ec359dce06",
   "metadata": {},
   "outputs": [],
   "source": [
    "# Define class to index mapping for training dataset\n",
    "\n",
    "## key = directory\n",
    "## value = index of directory\n",
    "\n",
    "class_to_idx = image_datasets['train'].class_to_idx\n",
    "idx_to_class = {v: k for k, v in class_to_idx.items()}"
   ]
  },
  {
   "cell_type": "code",
   "execution_count": 8,
   "id": "c1d3aae1-1d2d-4686-a98c-e577c8a2b3e7",
   "metadata": {},
   "outputs": [],
   "source": [
    "# Load mapping for label to name from json\n",
    "\n",
    "with open('class_to_name.json', 'r') as f:\n",
    "    class_to_name = json.load(f)"
   ]
  },
  {
   "cell_type": "code",
   "execution_count": 9,
   "id": "3fa350ea-98a3-49d9-b8f7-136a568d42d9",
   "metadata": {},
   "outputs": [
    {
     "name": "stdout",
     "output_type": "stream",
     "text": [
      "\n",
      "Class Directory: 34\n",
      "Class Index: 30\n",
      "Class Name: mexican aster\n",
      "\n"
     ]
    }
   ],
   "source": [
    "# Test class_to_idx mapping\n",
    "\n",
    "class_ = '34'  # should be pink primrose\n",
    "\n",
    "print(f'''\n",
    "Class Directory: {class_}\n",
    "Class Index: {class_to_idx[class_]}\n",
    "Class Name: {class_to_name[class_]}\n",
    "''')"
   ]
  },
  {
   "cell_type": "code",
   "execution_count": 10,
   "id": "440bd11f-59dd-4270-8525-651d373a55e0",
   "metadata": {
    "scrolled": true
   },
   "outputs": [
    {
     "data": {
      "text/plain": [
       "{'1': 0,\n",
       " '10': 1,\n",
       " '100': 2,\n",
       " '101': 3,\n",
       " '102': 4,\n",
       " '11': 5,\n",
       " '12': 6,\n",
       " '13': 7,\n",
       " '14': 8,\n",
       " '15': 9,\n",
       " '16': 10,\n",
       " '17': 11,\n",
       " '18': 12,\n",
       " '19': 13,\n",
       " '2': 14,\n",
       " '20': 15,\n",
       " '21': 16,\n",
       " '22': 17,\n",
       " '23': 18,\n",
       " '24': 19,\n",
       " '25': 20,\n",
       " '26': 21,\n",
       " '27': 22,\n",
       " '28': 23,\n",
       " '29': 24,\n",
       " '3': 25,\n",
       " '30': 26,\n",
       " '31': 27,\n",
       " '32': 28,\n",
       " '33': 29,\n",
       " '34': 30,\n",
       " '35': 31,\n",
       " '36': 32,\n",
       " '37': 33,\n",
       " '38': 34,\n",
       " '39': 35,\n",
       " '4': 36,\n",
       " '40': 37,\n",
       " '41': 38,\n",
       " '42': 39,\n",
       " '43': 40,\n",
       " '44': 41,\n",
       " '45': 42,\n",
       " '46': 43,\n",
       " '47': 44,\n",
       " '48': 45,\n",
       " '49': 46,\n",
       " '5': 47,\n",
       " '50': 48,\n",
       " '51': 49,\n",
       " '52': 50,\n",
       " '53': 51,\n",
       " '54': 52,\n",
       " '55': 53,\n",
       " '56': 54,\n",
       " '57': 55,\n",
       " '58': 56,\n",
       " '59': 57,\n",
       " '6': 58,\n",
       " '60': 59,\n",
       " '61': 60,\n",
       " '62': 61,\n",
       " '63': 62,\n",
       " '64': 63,\n",
       " '65': 64,\n",
       " '66': 65,\n",
       " '67': 66,\n",
       " '68': 67,\n",
       " '69': 68,\n",
       " '7': 69,\n",
       " '70': 70,\n",
       " '71': 71,\n",
       " '72': 72,\n",
       " '73': 73,\n",
       " '74': 74,\n",
       " '75': 75,\n",
       " '76': 76,\n",
       " '77': 77,\n",
       " '78': 78,\n",
       " '79': 79,\n",
       " '8': 80,\n",
       " '80': 81,\n",
       " '81': 82,\n",
       " '82': 83,\n",
       " '83': 84,\n",
       " '84': 85,\n",
       " '85': 86,\n",
       " '86': 87,\n",
       " '87': 88,\n",
       " '88': 89,\n",
       " '89': 90,\n",
       " '9': 91,\n",
       " '90': 92,\n",
       " '91': 93,\n",
       " '92': 94,\n",
       " '93': 95,\n",
       " '94': 96,\n",
       " '95': 97,\n",
       " '96': 98,\n",
       " '97': 99,\n",
       " '98': 100,\n",
       " '99': 101}"
      ]
     },
     "execution_count": 10,
     "metadata": {},
     "output_type": "execute_result"
    }
   ],
   "source": [
    "class_to_idx"
   ]
  },
  {
   "cell_type": "code",
   "execution_count": 11,
   "id": "cc535b48-ba13-4dd9-bde9-048395a82a27",
   "metadata": {},
   "outputs": [
    {
     "data": {
      "image/png": "[encoded data removed]",
      "text/plain": [
       "<Figure size 640x480 with 1 Axes>"
      ]
     },
     "metadata": {
      "image/png": {
       "height": 449,
       "width": 475
      }
     },
     "output_type": "display_data"
    },
    {
     "name": "stdout",
     "output_type": "stream",
     "text": [
      "{'class': '2', 'class_index': 14, 'class_name': 'hard-leaved pocket orchid', 'image_path': 'flowers/train/2/image_05088.jpg', 'image_index': 646}\n"
     ]
    }
   ],
   "source": [
    "# Test mapping by image index or random image\n",
    "\n",
    "from image_utils import inspect_image\n",
    "\n",
    "image_metadata = inspect_image(\n",
    "    dataset_name='train',\n",
    "    dataloaders=dataloaders,\n",
    "    class_to_idx=class_to_idx,\n",
    "    class_to_name=class_to_name,\n",
    "    image_idx=646,  # optional\n",
    "    plot=True\n",
    ")\n",
    "\n",
    "print(image_metadata)"
   ]
  },
  {
   "cell_type": "code",
   "execution_count": 22,
   "id": "02ed7484-5efb-411e-ba9d-2c9a4f4f8bec",
   "metadata": {},
   "outputs": [
    {
     "name": "stdout",
     "output_type": "stream",
     "text": [
      "SimpleNN(\n",
      "  (fc1): Linear(in_features=150528, out_features=512, bias=True)\n",
      "  (fc2): Linear(in_features=512, out_features=102, bias=True)\n",
      "  (relu): ReLU()\n",
      ")\n"
     ]
    }
   ],
   "source": [
    "# Define model\n",
    "\n",
    "model = models.vgg16(pretrained = True)\n",
    "\n",
    "layer_size = model.classifier[0].in_features\n",
    "layer_1 = layer_size//16\n",
    "layer_2 = layer_size//32\n",
    "n_classes = len(cat_to_name)\n",
    "print(layer_size, layer_1, layer_2, n_classes)\n",
    "\n",
    "for param in model.parameters():\n",
    "    param.requires_grad = False\n",
    "    \n",
    "classifier = nn.Sequential(nn.Linear(layer_size, layer_1),\n",
    "                          nn.ReLU(), #capitalization important for ReLU in torch\n",
    "                          nn.Dropout(p = 0.2),\n",
    "                          nn.Linear(layer_1, layer_2),\n",
    "                          nn.ReLU(), #capitalization important for ReLU in torch\n",
    "                          nn.Dropout(p = 0.2), \n",
    "                          nn.LogSoftmax(dim = 1))\n",
    "model.classifier = classifier\n",
    "\n",
    "criterion = nn.NLLLoss()\n",
    "\n",
    "optimizer = optim.Adam(model.classifier.parameters(), lr = 0.003)\n",
    "\n",
    "device = torch.device(\"cuda:0\" if torch.cuda.is_available() else \"cpu\")\n",
    "# device\n",
    "\n",
    "model.to(device);"
   ]
  },
  {
   "cell_type": "code",
   "execution_count": null,
   "id": "b0a877b3-f804-4578-b4bb-c9e6c7450d56",
   "metadata": {},
   "outputs": [],
   "source": [
    "# Train model\n",
    "\n",
    "###########################################################\n",
    "\n",
    "#Trains model\n",
    "\n",
    "epochs = 1\n",
    "steps = 0\n",
    "print_every = 40\n",
    "\n",
    "\n",
    "for n in range(epochs):\n",
    "    running_loss = 0\n",
    "    for inputs, labels in train_loader: #labels are flower names, need to use \"flowers\" in next loop\n",
    "        steps += 1\n",
    "        inputs, labels = inputs.to(device), labels.to(device)\n",
    "        \n",
    "        optimizer.zero_grad()\n",
    "        \n",
    "        logpred = model.forward(inputs)\n",
    "        loss = criterion(logpred, labels)\n",
    "        loss.backward()\n",
    "        optimizer.step()\n",
    "        \n",
    "        running_loss += loss.item()\n",
    "        \n",
    "        if steps%print_every == 0:\n",
    "            test_loss = 0\n",
    "            accuracy = 0\n",
    "            model.eval()\n",
    "            with torch.no_grad():\n",
    "                for inputs, labels in valid_loader:\n",
    "                    inputs, labels = inputs.to(device), labels.to(device)\n",
    "                    logpred = model(inputs)\n",
    "                    batch_loss = criterion(logpred, labels)\n",
    "                    \n",
    "                    test_loss += batch_loss.item() #this is tested against the valid data set\n",
    "                    \n",
    "                    ps = torch.exp(logpred)\n",
    "                    top_p, top_class = ps.topk(1, dim=1)\n",
    "                    equals = top_class == labels.view(*top_class.shape)\n",
    "                    accuracy += torch.mean(equals.type(torch.FloatTensor)).item()\n",
    "                training_loss = running_loss/print_every    \n",
    "                avg_validation_loss = test_loss / len(valid_loader)\n",
    "                avg_validation_accuracy = accuracy / len(valid_loader)\n",
    "                    \n",
    "            print(\"Epoch: {}/{}  \".format(n+1, epochs),\n",
    "                  \"Training Loss: {:.3f}  \".format(training_loss),\n",
    "                  \"Validation Loss: {:.3f}  \".format(avg_validation_loss),\n",
    "                  \"Validation Accuracy: {:.3f}\".format(avg_validation_accuracy))\n",
    "            running_loss = 0\n",
    "            model.train()"
   ]
  },
  {
   "cell_type": "code",
   "execution_count": 24,
   "id": "cf1415c9-4a6c-4a8d-b913-898a9ed9c09e",
   "metadata": {},
   "outputs": [
    {
     "name": "stdout",
     "output_type": "stream",
     "text": [
      "Accuracy on validation set: 3.4229828850855744%\n"
     ]
    }
   ],
   "source": [
    "# Evaluate model accuracy on validation set\n",
    "\n",
    "# model.eval()\n",
    "# correct = 0\n",
    "# total = 0\n",
    "# with torch.no_grad():\n",
    "#     for inputs, labels in dataloaders['valid']:\n",
    "#         outputs = model(inputs)\n",
    "#         _, predicted = torch.max(outputs.data, 1)\n",
    "#         total += labels.size(0)\n",
    "#         correct += (predicted == labels).sum().item()\n",
    "\n",
    "# print(f'Accuracy on validation set: {100 * correct / total}%')\n"
   ]
  },
  {
   "cell_type": "code",
   "execution_count": null,
   "id": "71405479-87d6-4e60-875d-ad85a6f8db15",
   "metadata": {},
   "outputs": [],
   "source": [
    "# Tests model against the test data and gives model accuracy\n",
    "            \n",
    "# correct = 0\n",
    "# total = 0\n",
    "# with torch.no_grad():\n",
    "#     model.eval()\n",
    "#     for inputs, labels in test_loader:\n",
    "#         inputs, labels = inputs.to(device), labels.to(device)\n",
    "#         outputs = model(inputs)\n",
    "#         _, predicted = torch.max(outputs.data, 1)\n",
    "#         total += labels.size(0)\n",
    "#         correct += (predicted == labels).sum().item()\n",
    "        \n",
    "# print(100 * (correct/total))"
   ]
  },
  {
   "cell_type": "code",
   "execution_count": null,
   "id": "5452eb12-b711-4712-8360-e2a2420bfc06",
   "metadata": {},
   "outputs": [],
   "source": [
    "# Save the checkpoint \n",
    "\n",
    "# model.class_to_idx = image_datasets['train'].class_to_idx\n",
    "\n",
    "# model_state = {'state_dict': model.state_dict(),\n",
    "#                'classifier': model.classifier,\n",
    "#                'class_to_idx': model.class_to_idx,\n",
    "#               }\n",
    "\n",
    "# torch.save(model_state, 'checkpoint.pth')"
   ]
  },
  {
   "cell_type": "code",
   "execution_count": null,
   "id": "0fd87c41-85c0-4021-947d-3232d342d207",
   "metadata": {},
   "outputs": [],
   "source": [
    "# Load checkpoint\n",
    "\n",
    "# def load_checkpoint(filepath):\n",
    "#     checkpoint = torch.load(filepath)\n",
    "#     model = models.vgg13(pretrained = True)\n",
    "#     model.state_dict = checkpoint['state_dict']\n",
    "#     # make sure model.classifier exists?\n",
    "#     model.classifier = checkpoint['classifer']\n",
    "#     # model.classifier = checkpoint['classifier']    # it should be this fix me later\n",
    "#     model.class_to_idx = checkpoint['class_to_idx']\n",
    "    \n",
    "#     return model\n",
    "\n",
    "# saved_model = load_checkpoint('checkpoint.pth')\n",
    "# saved_model"
   ]
  },
  {
   "cell_type": "code",
   "execution_count": 32,
   "id": "e86c5d1f-b1bc-4ffb-a385-48d1c98e4068",
   "metadata": {},
   "outputs": [],
   "source": [
    "# Assign class_to_idx mapping to model\n",
    "\n",
    "model.class_to_idx = image_datasets['train'].class_to_idx"
   ]
  },
  {
   "cell_type": "code",
   "execution_count": 51,
   "id": "d4f6b1c6-6078-43b7-ab0e-171f3b9ba7d0",
   "metadata": {},
   "outputs": [],
   "source": [
    "# Define process image function\n",
    "\n",
    "import torch\n",
    "from torchvision import transforms\n",
    "from PIL import Image\n",
    "\n",
    "def process_image(image_path):\n",
    "    ''' Scales, crops, and normalizes a PIL image for a PyTorch model,\n",
    "        returns a Tensor\n",
    "    '''\n",
    "    \n",
    "    # Define the transformations\n",
    "    transform = transforms.Compose([\n",
    "        transforms.Resize(256),\n",
    "        transforms.CenterCrop(224),\n",
    "        transforms.ToTensor(),\n",
    "        transforms.Normalize([0.485, 0.456, 0.406], \n",
    "                             [0.229, 0.224, 0.225])\n",
    "    ])\n",
    "    \n",
    "    # Open the image and apply the transformations\n",
    "    image = Image.open(image_path)\n",
    "    image = transform(image)\n",
    "    \n",
    "    # Add batch dimension. Model expects batches as input.\n",
    "    image = image.unsqueeze(0)\n",
    "    \n",
    "    return image"
   ]
  },
  {
   "cell_type": "code",
   "execution_count": 52,
   "id": "e042a02a-22a1-401e-b263-8d2b58597cc7",
   "metadata": {},
   "outputs": [
    {
     "data": {
      "text/plain": [
       "tensor([[[[-1.2103, -1.3130, -1.3815,  ...,  0.2967,  0.2453,  0.2282],\n",
       "          [-1.2274, -1.2959, -1.3815,  ...,  0.2624,  0.2282,  0.2796],\n",
       "          [-1.2788, -1.3302, -1.3815,  ...,  0.2453,  0.2624,  0.3481],\n",
       "          ...,\n",
       "          [ 0.3138,  0.1597,  0.1768,  ..., -1.1075, -1.1075, -1.1247],\n",
       "          [ 0.2796,  0.1426,  0.1254,  ..., -1.0904, -1.0904, -1.1075],\n",
       "          [ 0.2624,  0.1254,  0.0569,  ..., -1.0904, -1.1075, -1.1075]],\n",
       "\n",
       "         [[-1.2829, -1.3179, -1.3179,  ...,  0.7129,  0.6779,  0.6604],\n",
       "          [-1.3179, -1.3179, -1.3179,  ...,  0.6954,  0.6604,  0.7129],\n",
       "          [-1.3354, -1.3354, -1.3179,  ...,  0.6779,  0.6954,  0.7829],\n",
       "          ...,\n",
       "          [ 0.7479,  0.6254,  0.6429,  ..., -0.8978, -0.9153, -0.9153],\n",
       "          [ 0.7479,  0.6254,  0.6254,  ..., -0.8627, -0.8803, -0.9153],\n",
       "          [ 0.7479,  0.6254,  0.5553,  ..., -0.8627, -0.8978, -0.9153]],\n",
       "\n",
       "         [[-1.4384, -1.5081, -1.5604,  ...,  0.4091,  0.3393,  0.2696],\n",
       "          [-1.4733, -1.5430, -1.5953,  ...,  0.3568,  0.2871,  0.3045],\n",
       "          [-1.5081, -1.5604, -1.5953,  ...,  0.3393,  0.3393,  0.3916],\n",
       "          ...,\n",
       "          [ 0.0082, -0.0964,  0.1128,  ..., -1.1944, -1.2293, -1.2641],\n",
       "          [-0.0092, -0.0615,  0.0953,  ..., -1.2119, -1.2293, -1.2467],\n",
       "          [-0.0092, -0.0615,  0.0256,  ..., -1.2119, -1.2293, -1.2467]]]])"
      ]
     },
     "execution_count": 52,
     "metadata": {},
     "output_type": "execute_result"
    }
   ],
   "source": [
    "# Test process_image()\n",
    "\n",
    "image_path = 'flowers/train/61/image_06282.jpg'\n",
    "process_image(image_path)"
   ]
  },
  {
   "cell_type": "code",
   "execution_count": 53,
   "id": "2f087b3f-10ac-4ec1-a031-4865147907ae",
   "metadata": {},
   "outputs": [],
   "source": [
    "# Predict image class\n",
    "\n",
    "def predict(image_path, model, topk=5):\n",
    "    ''' Predict the class (or classes) of an image using a trained deep learning model.\n",
    "    '''\n",
    "    \n",
    "    # Ensure model is in eval mode and turn off gradients\n",
    "    model.eval()\n",
    "    with torch.no_grad():\n",
    "        \n",
    "        # Process the image\n",
    "        image_tensor = process_image(image_path)\n",
    "        \n",
    "        # Run image through the model\n",
    "        outputs = model(image_tensor)\n",
    "        \n",
    "        # Get the top probabilities and labels\n",
    "        probs, indices = outputs.topk(topk)\n",
    "        \n",
    "        # Convert probabilities and indices to lists\n",
    "        probs = probs.numpy().tolist()[0]\n",
    "        indices = indices.numpy().tolist()[0]\n",
    "        \n",
    "        # Convert indices to actual category names\n",
    "        # Invert the dictionary, get the mapping from index to class\n",
    "        idx_to_class = {idx: cls for cls, idx in model.class_to_idx.items()}\n",
    "        \n",
    "        # Get the labels from the indices\n",
    "        classes = [idx_to_class[index] for index in indices]\n",
    "        \n",
    "        return probs, classes"
   ]
  },
  {
   "cell_type": "code",
   "execution_count": 54,
   "id": "6990fc01-e49c-4b73-8ea0-d8e7e8b14643",
   "metadata": {},
   "outputs": [
    {
     "data": {
      "text/plain": [
       "([21.277008056640625,\n",
       "  16.973289489746094,\n",
       "  16.83664321899414,\n",
       "  16.13250160217285,\n",
       "  15.462005615234375],\n",
       " ['69', '83', '90', '99', '87'])"
      ]
     },
     "execution_count": 54,
     "metadata": {},
     "output_type": "execute_result"
    }
   ],
   "source": [
    "predict(image_path=image_path, model=model)"
   ]
  }
 ],
 "metadata": {
  "kernelspec": {
   "display_name": "Python 3 (ipykernel)",
   "language": "python",
   "name": "python3"
  },
  "language_info": {
   "codemirror_mode": {
    "name": "ipython",
    "version": 3
   },
   "file_extension": ".py",
   "mimetype": "text/x-python",
   "name": "python",
   "nbconvert_exporter": "python",
   "pygments_lexer": "ipython3",
   "version": "3.11.5"
  }
 },
 "nbformat": 4,
 "nbformat_minor": 5
}
